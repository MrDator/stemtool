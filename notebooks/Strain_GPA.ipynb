{
 "cells": [
  {
   "cell_type": "code",
   "execution_count": 1,
   "metadata": {},
   "outputs": [],
   "source": [
    "import json\n",
    "import matplotlib.pyplot as plt\n",
    "import matplotlib.image as mpimg\n",
    "from matplotlib import gridspec as mpgs\n",
    "import matplotlib as mpl\n",
    "import numpy as np\n",
    "import scipy as sp\n",
    "from skimage import transform as skt\n",
    "import os\n",
    "import time\n",
    "import multiprocessing as mp\n",
    "import skimage.filters as skf\n",
    "from scipy import ndimage as scnd\n",
    "import hdf5storage as h5\n",
    "from matplotlib_scalebar.scalebar import ScaleBar,SI_LENGTH_RECIPROCAL\n",
    "import math\n",
    "import numba\n",
    "import sys\n",
    "import pyfftw\n",
    "import pymcr\n",
    "%matplotlib inline\n",
    "plt.rcParams['image.cmap'] = 'magma'\n",
    "plt.rcParams.update({'font.size': 25})\n",
    "plt.rcParams.update({'font.weight': 'bold'})\n",
    "plt.rcParams.update({'figure.autolayout': True})"
   ]
  },
  {
   "cell_type": "code",
   "execution_count": 2,
   "metadata": {},
   "outputs": [],
   "source": [
    "import sys\n",
    "sys.path.append('/home/cades/Codes/stemtools')\n",
    "import stemtools as st\n",
    "%load_ext autoreload\n",
    "%autoreload 2"
   ]
  },
  {
   "cell_type": "code",
   "execution_count": 3,
   "metadata": {},
   "outputs": [],
   "source": [
    "import warnings\n",
    "warnings.filterwarnings('ignore')"
   ]
  },
  {
   "cell_type": "code",
   "execution_count": 4,
   "metadata": {},
   "outputs": [],
   "source": [
    "from matplotlib.colors import LinearSegmentedColormap as LSC\n",
    "lin_burd = LSC.from_list('list', [(0, 35/255, 156/255), (0.95,0.95, 0.95),(249/255,56/255,34/255)], N=256)"
   ]
  },
  {
   "cell_type": "code",
   "execution_count": 5,
   "metadata": {},
   "outputs": [
    {
     "name": "stdout",
     "output_type": "stream",
     "text": [
      "Elapsed time: 26.222679 seconds.\n",
      "\n"
     ]
    }
   ],
   "source": [
    "st.tic()\n",
    "datRhPt = h5.loadmat('/home/cades/Data4D_2/Debangshu/Core@Shell NBED/Nion Swift Library 20190810 - EH-83-I Rh@Pt Thick/RhPtThick.mat')\n",
    "st.toc()"
   ]
  },
  {
   "cell_type": "code",
   "execution_count": null,
   "metadata": {},
   "outputs": [],
   "source": [
    "json1 = '/home/cades/Data4D_2/Debangshu/Core@Shell NBED/Nion Swift Library 20190810 - EH-83-I Rh@Pt Thick/Particle1_ACSTEM_00.json'\n",
    "json2 = '/home/cades/Data4D_2/Debangshu/Core@Shell NBED/Nion Swift Library 20190810 - EH-83-I Rh@Pt Thick/Particle2_ACSTEM_00.json'\n",
    "with open(json1) as json_1:\n",
    "    info_1 = json.load(json_1)\n",
    "with open(json2) as json_2:\n",
    "    info_2 = json.load(json_2)"
   ]
  },
  {
   "cell_type": "code",
   "execution_count": null,
   "metadata": {},
   "outputs": [],
   "source": [
    "calib1 = info_1['spatial_calibrations'][0]['scale']\n",
    "calib1_units = info_1['spatial_calibrations'][0]['units']"
   ]
  },
  {
   "cell_type": "code",
   "execution_count": null,
   "metadata": {},
   "outputs": [],
   "source": [
    "calib1"
   ]
  },
  {
   "cell_type": "code",
   "execution_count": null,
   "metadata": {},
   "outputs": [],
   "source": [
    "datRhPt.keys()"
   ]
  },
  {
   "cell_type": "code",
   "execution_count": null,
   "metadata": {},
   "outputs": [],
   "source": [
    "image00 = datRhPt['particle1_00']\n",
    "image90 = datRhPt['particle1_90']\n",
    "imageDC = datRhPt['particle1_im']"
   ]
  },
  {
   "cell_type": "code",
   "execution_count": null,
   "metadata": {},
   "outputs": [],
   "source": [
    "calib1_units"
   ]
  },
  {
   "cell_type": "code",
   "execution_count": null,
   "metadata": {},
   "outputs": [],
   "source": [
    "font = {'weight' : 'bold',\n",
    "        'size'   : 50}\n",
    "\n",
    "mpl.rc('font', **font)\n",
    "plt.figure(figsize=(20,30))\n",
    "\n",
    "plt.subplot(3,2,1)\n",
    "plt.imshow(scnd.rotate(image00,90))\n",
    "scalebar = ScaleBar(calib1,calib1_units)\n",
    "scalebar.location = 'lower right'\n",
    "scalebar.box_alpha = 0\n",
    "scalebar.color = 'w'\n",
    "plt.gca().add_artist(scalebar)\n",
    "plt.axis('off')\n",
    "\n",
    "plt.subplot(3,2,2)\n",
    "plt.imshow(scnd.gaussian_filter(scnd.rotate(image00,90),2))\n",
    "scalebar = ScaleBar(calib1,calib1_units)\n",
    "scalebar.location = 'lower right'\n",
    "scalebar.box_alpha = 0\n",
    "scalebar.color = 'w'\n",
    "plt.gca().add_artist(scalebar)\n",
    "plt.axis('off')\n",
    "\n",
    "plt.subplot(3,2,3)\n",
    "plt.imshow(image90)\n",
    "scalebar = ScaleBar(calib1,calib1_units)\n",
    "scalebar.location = 'lower right'\n",
    "scalebar.box_alpha = 0\n",
    "scalebar.color = 'w'\n",
    "plt.gca().add_artist(scalebar)\n",
    "plt.axis('off')\n",
    "\n",
    "plt.subplot(3,2,4)\n",
    "plt.imshow(scnd.gaussian_filter(image90,2))\n",
    "scalebar = ScaleBar(calib1,calib1_units)\n",
    "scalebar.location = 'lower right'\n",
    "scalebar.box_alpha = 0\n",
    "scalebar.color = 'w'\n",
    "plt.gca().add_artist(scalebar)\n",
    "plt.axis('off')\n",
    "\n",
    "plt.subplot(3,2,5)\n",
    "plt.imshow(scnd.rotate(imageDC,90))\n",
    "scalebar = ScaleBar(calib1,calib1_units)\n",
    "scalebar.location = 'lower right'\n",
    "scalebar.box_alpha = 0\n",
    "scalebar.color = 'w'\n",
    "plt.gca().add_artist(scalebar)\n",
    "plt.axis('off')\n",
    "\n",
    "plt.subplot(3,2,6)\n",
    "plt.imshow(scnd.gaussian_filter(scnd.rotate(imageDC,90),2))\n",
    "scalebar = ScaleBar(calib1,calib1_units)\n",
    "scalebar.location = 'lower right'\n",
    "scalebar.box_alpha = 0\n",
    "scalebar.color = 'w'\n",
    "plt.gca().add_artist(scalebar)\n",
    "plt.axis('off')\n",
    "\n",
    "plt.tight_layout()\n",
    "\n",
    "plt.savefig('Results_ADF/Particle1_Raw_Images.pdf')"
   ]
  },
  {
   "cell_type": "markdown",
   "metadata": {},
   "source": [
    "To ensure only the nanoparticle is picked, we will do a digital selected area electron diffraction - we will pick two diffraction spots and then mask the image so that we will analyze only the image where the diffraction spots came from."
   ]
  },
  {
   "cell_type": "code",
   "execution_count": null,
   "metadata": {},
   "outputs": [],
   "source": [
    "image00 = scnd.gaussian_filter(scnd.rotate(image00,90),2)\n",
    "image90 = scnd.gaussian_filter(image90,2)\n",
    "imageDC = scnd.rotate(imageDC,90)"
   ]
  },
  {
   "cell_type": "code",
   "execution_count": null,
   "metadata": {},
   "outputs": [],
   "source": [
    "imageDC.shape"
   ]
  },
  {
   "cell_type": "code",
   "execution_count": null,
   "metadata": {},
   "outputs": [],
   "source": [
    "circ_c=(985,985)\n",
    "circ_y=(985,905)\n",
    "circ_x=(1065,985)\n",
    "st.afit.find_diffraction_spots(image=imageDC,\n",
    "                               circ_c=circ_c,\n",
    "                               circ_y=circ_y,\n",
    "                               circ_x=circ_x)"
   ]
  },
  {
   "cell_type": "code",
   "execution_count": null,
   "metadata": {},
   "outputs": [],
   "source": [
    "def define_reference(image,\n",
    "                     A,B,C,D):\n",
    "    xx,yy = np.meshgrid(np.arange(imageDC.shape[1]),np.arange(imageDC.shape[0]))\n",
    "    m_AB = (A[1] - B[1])/(A[0] - B[0])\n",
    "    c_AB = A[1] - (m_AB*A[0])\n",
    "    m_BC = (B[1] - C[1])/(B[0] - C[0])\n",
    "    c_BC = B[1] - (m_BC*B[0])\n",
    "    m_CD = (C[1] - D[1])/(C[0] - D[0])\n",
    "    c_CD = C[1] - (m_CD*C[0])\n",
    "    m_DA = (D[1] - A[1])/(D[0] - A[0])\n",
    "    c_DA = D[1] - (m_DA*D[0])\n",
    "    ref_reg = np.logical_and(np.logical_and((yy > (m_AB*xx) + c_AB),((yy - c_BC)/m_BC > xx)),\n",
    "                             np.logical_and((yy < (m_CD*xx) + c_CD),((yy - c_DA)/m_DA < xx)))\n",
    "    plt.figure(figsize=(15,15))\n",
    "    plt.imshow(st.util.image_normalizer(image)+0.33*ref_reg)\n",
    "    plt.annotate(A, (A[0]/image.shape[0], (1 - A[1]/imageDC.shape[1])), textcoords='axes fraction', size=15,c='w')\n",
    "    plt.annotate(B, (B[0]/image.shape[0], (1 - B[1]/imageDC.shape[1])), textcoords='axes fraction', size=15,c='w')\n",
    "    plt.annotate(C, (C[0]/image.shape[0], (1 - C[1]/imageDC.shape[1])), textcoords='axes fraction', size=15,c='w')\n",
    "    plt.annotate(D, (D[0]/image.shape[0], (1 - D[1]/imageDC.shape[1])), textcoords='axes fraction', size=15,c='w')\n",
    "    plt.scatter(A[0],A[1])\n",
    "    plt.scatter(B[0],B[1])\n",
    "    plt.scatter(C[0],C[1])\n",
    "    plt.scatter(D[0],D[1])\n",
    "    plt.axis('off')\n",
    "    return ref_reg"
   ]
  },
  {
   "cell_type": "code",
   "execution_count": null,
   "metadata": {},
   "outputs": [],
   "source": [
    "A = (920,750)\n",
    "B = (1300,740)\n",
    "C = (1290,1080)\n",
    "D = (900,1100)\n",
    "ref_matrix = define_reference(imageDC,A,B,C,D)"
   ]
  },
  {
   "cell_type": "code",
   "execution_count": null,
   "metadata": {},
   "outputs": [],
   "source": [
    "def circ_to_G(circ_pos,image):\n",
    "    g_vec = np.zeros(2)\n",
    "    g_vec[0] = ((circ_pos[1] - (0.5*image.shape[0]))/image.shape[0])\n",
    "    g_vec[1] = ((circ_pos[0] - (0.5*image.shape[1]))/image.shape[1])\n",
    "    return g_vec\n",
    "\n",
    "def G_to_circ(g_vec,image):\n",
    "    circ_pos = np.zeros(2)\n",
    "    circ_pos[1] = (g_vec[0]*image.shape[0]) + (0.5*image.shape[0])\n",
    "    circ_pos[0] = (g_vec[1]*image.shape[1]) + (0.5*image.shape[1])\n",
    "    return circ_pos\n",
    "\n",
    "def g_matrix(g_vector,image):\n",
    "    x_fourier = np.fft.fftshift(np.fft.fftfreq(image.shape[1]))\n",
    "    y_fourier = np.fft.fftshift(np.fft.fftfreq(image.shape[0]))\n",
    "    P_vec,Q_vec = np.meshgrid(x_fourier,y_fourier)\n",
    "    G_Matrix = Q_vec*g_vector[0] + P_vec*g_vector[1]\n",
    "    return (2*np.pi)*G_Matrix\n",
    "\n",
    "def p_matrix(g_vector,image):\n",
    "    circ_pos = G_to_circ(g_vector,image)\n",
    "    circ_rad = np.amin(0.01*np.asarray(image.shape))\n",
    "    circ_mask = st.util.make_circle(imageDC.shape,circ_pos[0],circ_pos[1],circ_rad)\n",
    "    G_matrix = np.angle(np.fft.ifft2(circ_mask*np.fft.fftshift(np.fft.fft2(image))))\n",
    "    P_matrix = G_matrix - g_matrix(g_vector,image)\n",
    "    return P_matrix"
   ]
  },
  {
   "cell_type": "code",
   "execution_count": null,
   "metadata": {},
   "outputs": [],
   "source": [
    "gvec_y = circ_to_G(circ_y,imageDC)"
   ]
  },
  {
   "cell_type": "code",
   "execution_count": null,
   "metadata": {},
   "outputs": [],
   "source": [
    "plt.figure(figsize=(15,15))\n",
    "plt.imshow(ref_matrix*(p_matrix(circ_to_G(circ_x,imageDC),imageDC)))"
   ]
  },
  {
   "cell_type": "code",
   "execution_count": null,
   "metadata": {},
   "outputs": [],
   "source": [
    "plt.figure(figsize=(20,20))\n",
    "plt.imshow(ref_matrix[:,0:-1]*(np.diff(p_matrix(circ_to_G(circ_x,imageDC),imageDC))))"
   ]
  },
  {
   "cell_type": "code",
   "execution_count": null,
   "metadata": {},
   "outputs": [],
   "source": [
    "whos"
   ]
  },
  {
   "cell_type": "code",
   "execution_count": null,
   "metadata": {},
   "outputs": [],
   "source": []
  },
  {
   "cell_type": "code",
   "execution_count": null,
   "metadata": {},
   "outputs": [],
   "source": []
  },
  {
   "cell_type": "code",
   "execution_count": null,
   "metadata": {},
   "outputs": [],
   "source": []
  },
  {
   "cell_type": "code",
   "execution_count": null,
   "metadata": {},
   "outputs": [],
   "source": []
  },
  {
   "cell_type": "code",
   "execution_count": null,
   "metadata": {},
   "outputs": [],
   "source": []
  },
  {
   "cell_type": "code",
   "execution_count": null,
   "metadata": {},
   "outputs": [],
   "source": []
  }
 ],
 "metadata": {
  "kernelspec": {
   "display_name": "Python 3",
   "language": "python",
   "name": "python3"
  },
  "language_info": {
   "codemirror_mode": {
    "name": "ipython",
    "version": 3
   },
   "file_extension": ".py",
   "mimetype": "text/x-python",
   "name": "python",
   "nbconvert_exporter": "python",
   "pygments_lexer": "ipython3",
   "version": "3.7.3"
  }
 },
 "nbformat": 4,
 "nbformat_minor": 4
}
