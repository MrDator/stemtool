{
 "cells": [
  {
   "cell_type": "code",
   "execution_count": 1,
   "metadata": {},
   "outputs": [],
   "source": [
    "import json\n",
    "import matplotlib.pyplot as plt\n",
    "import matplotlib.image as mpimg\n",
    "import matplotlib as mpl\n",
    "import numpy as np\n",
    "import scipy as sp\n",
    "from skimage import transform as skt\n",
    "import os\n",
    "import time\n",
    "import multiprocessing as mp\n",
    "import skimage.filters as skf\n",
    "from scipy import ndimage as scnd\n",
    "import hdf5storage as h5\n",
    "from matplotlib_scalebar.scalebar import ScaleBar,SI_LENGTH_RECIPROCAL\n",
    "import math\n",
    "import ase.build as asb\n",
    "import ase\n",
    "import numba\n",
    "import sys\n",
    "from ncempy import io as emio\n",
    "import pyfftw.interfaces as pfi\n",
    "import pymcr\n",
    "import stemtool as st\n",
    "%matplotlib inline\n",
    "plt.rcParams['image.cmap'] = 'magma'\n",
    "plt.rcParams.update({'font.size': 25})\n",
    "plt.rcParams.update({'font.weight': 'bold'})"
   ]
  },
  {
   "cell_type": "code",
   "execution_count": 2,
   "metadata": {},
   "outputs": [],
   "source": [
    "import warnings\n",
    "warnings.filterwarnings('ignore')"
   ]
  },
  {
   "cell_type": "code",
   "execution_count": 3,
   "metadata": {},
   "outputs": [
    {
     "data": {
      "text/plain": [
       "{'_cellobj': Cell([[2.86337919, 0.0, 0.0], [-1.4316895949999993, 2.479759119207709, 0.0], [0.0, 0.0, 17.87331404]]),\n",
       " 'arrays': {'numbers': array([27, 27, 27, 46, 46, 46,  8,  8,  8,  8,  8,  8]),\n",
       "  'positions': array([[ 1.43169103e+00,  8.26585546e-01,  1.48944224e+01],\n",
       "         [-1.43168959e-06,  1.65317357e+00,  2.97889163e+00],\n",
       "         [ 0.00000000e+00,  0.00000000e+00,  8.93665702e+00],\n",
       "         [-1.43168959e-06,  1.65317357e+00,  1.19155487e+01],\n",
       "         [ 0.00000000e+00,  0.00000000e+00,  0.00000000e+00],\n",
       "         [ 1.43169103e+00,  8.26585546e-01,  5.95776539e+00],\n",
       "         [ 0.00000000e+00,  0.00000000e+00,  1.58629952e+01],\n",
       "         [-1.43168959e-06,  1.65317357e+00,  1.39258675e+01],\n",
       "         [ 1.43169103e+00,  8.26585546e-01,  3.94744652e+00],\n",
       "         [ 0.00000000e+00,  0.00000000e+00,  2.01031887e+00],\n",
       "         [-1.43168959e-06,  1.65317357e+00,  9.90521191e+00],\n",
       "         [ 1.43169103e+00,  8.26585546e-01,  7.96810213e+00]])},\n",
       " '_celldisp': array([[0.],\n",
       "        [0.],\n",
       "        [0.]]),\n",
       " '_constraints': [],\n",
       " 'info': {'spacegroup': Spacegroup(1, setting=1),\n",
       "  'unit_cell': 'conventional',\n",
       "  'occupancy': {0: {'Co': 1},\n",
       "   1: {'Co': 1},\n",
       "   2: {'Co': 1},\n",
       "   3: {'Pd': 1},\n",
       "   4: {'Pd': 1},\n",
       "   5: {'Pd': 1},\n",
       "   6: {'O': 1},\n",
       "   7: {'O': 1},\n",
       "   8: {'O': 1},\n",
       "   9: {'O': 1},\n",
       "   10: {'O': 1},\n",
       "   11: {'O': 1}}},\n",
       " '_calc': None}"
      ]
     },
     "execution_count": 3,
     "metadata": {},
     "output_type": "execute_result"
    }
   ],
   "source": [
    "pco = ase.io.read('/Users/7dm/Desktop/PdCoO2 APL/PdCoO2.cif')\n",
    "pco.__dict__"
   ]
  },
  {
   "cell_type": "code",
   "execution_count": 4,
   "metadata": {},
   "outputs": [],
   "source": [
    "cell_dim = pco._cellobj[0:3]\n",
    "cell_pos = pco.positions"
   ]
  },
  {
   "cell_type": "code",
   "execution_count": 5,
   "metadata": {},
   "outputs": [],
   "source": [
    "@numba.jit(parallel=True,cache=True)\n",
    "def find_uc_pos(atom_pos,cell_dim):\n",
    "    uc_pos = np.zeros_like(atom_pos)\n",
    "    for ii in numba.prange(len(uc_pos)):\n",
    "        for jj in range(len(cell_dim)):\n",
    "            cc = atom_pos[ii,:]/cell_dim[jj,:]\n",
    "            cc[cc < 0] += 1\n",
    "            cc[cc == np.inf] = 0\n",
    "            cc[cc > 0.001]\n",
    "            uc_pos[ii,jj] = cc[jj]\n",
    "    uc_nonzero = uc_pos != 0\n",
    "    uc_inv = 1/uc_pos[uc_nonzero]\n",
    "    uc_inv[np.abs(uc_inv - np.round(uc_inv)) < 0.001] = np.round(uc_inv[np.abs(uc_inv - np.round(uc_inv)) < 0.001])\n",
    "    uc_pos[uc_nonzero] = 1/uc_inv\n",
    "    uc_pos[uc_pos == 1] = 0\n",
    "    return uc_pos"
   ]
  },
  {
   "cell_type": "code",
   "execution_count": 6,
   "metadata": {},
   "outputs": [
    {
     "name": "stdout",
     "output_type": "stream",
     "text": [
      "Elapsed time: 2.251192 seconds.\n",
      "\n"
     ]
    }
   ],
   "source": [
    "st.tic() \n",
    "uc_vals = find_uc_pos(cell_pos,cell_dim)\n",
    "st.toc()"
   ]
  },
  {
   "cell_type": "code",
   "execution_count": 7,
   "metadata": {},
   "outputs": [
    {
     "data": {
      "text/plain": [
       "array([[0.5       , 0.33333333, 0.833333  ],\n",
       "       [0.        , 0.666667  , 0.16666667],\n",
       "       [0.        , 0.        , 0.5       ],\n",
       "       [0.        , 0.666667  , 0.666667  ],\n",
       "       [0.        , 0.        , 0.        ],\n",
       "       [0.5       , 0.33333333, 0.33333333],\n",
       "       [0.        , 0.        , 0.887524  ],\n",
       "       [0.        , 0.666667  , 0.779143  ],\n",
       "       [0.5       , 0.33333333, 0.220857  ],\n",
       "       [0.        , 0.        , 0.112476  ],\n",
       "       [0.        , 0.666667  , 0.55419   ],\n",
       "       [0.5       , 0.33333333, 0.44581   ]])"
      ]
     },
     "execution_count": 7,
     "metadata": {},
     "output_type": "execute_result"
    }
   ],
   "source": [
    "uc_vals"
   ]
  },
  {
   "cell_type": "code",
   "execution_count": 8,
   "metadata": {},
   "outputs": [],
   "source": [
    "def vec_angles(vec1,vec2):\n",
    "    cross_vec = np.sum(np.multiply(vec1,vec2))\n",
    "    vec_ref = cross_vec/(np.linalg.norm(vec1)*np.linalg.norm(vec2))\n",
    "    vec_ang = np.arccos(vec_ref)\n",
    "    vec_ang_d = vec_ang*(180/np.pi)\n",
    "    if np.abs(vec_ang_d - np.round(vec_ang_d)) < 0.001:\n",
    "        vec_ang_d = np.round(vec_ang_d)\n",
    "    return vec_ang_d"
   ]
  },
  {
   "cell_type": "code",
   "execution_count": 9,
   "metadata": {},
   "outputs": [],
   "source": [
    "vec_vals = (1,-1,0)\n",
    "vec_dir = np.matmul(np.transpose(cell_dim),np.asarray(vec_vals))\n",
    "slice_spacing = 0.5\n",
    "slice_vec = vec_dir/(np.linalg.norm(vec_dir)/slice_spacing)"
   ]
  },
  {
   "cell_type": "code",
   "execution_count": 10,
   "metadata": {},
   "outputs": [
    {
     "data": {
      "text/plain": [
       "array([ 0.4330127, -0.25     ,  0.       ])"
      ]
     },
     "execution_count": 10,
     "metadata": {},
     "output_type": "execute_result"
    }
   ],
   "source": [
    "slice_vec"
   ]
  },
  {
   "cell_type": "code",
   "execution_count": 11,
   "metadata": {},
   "outputs": [
    {
     "data": {
      "text/plain": [
       "array([85.77367156, 95.40906465, 87.91005269, 91.99602259, 77.79999596,\n",
       "       80.96378118, 88.76060113, 91.7371621 , 78.14952272, 83.68174418,\n",
       "       92.3425765 , 82.76500836])"
      ]
     },
     "execution_count": 11,
     "metadata": {},
     "output_type": "execute_result"
    }
   ],
   "source": [
    "dir_angs = np.zeros(len(cell_pos))\n",
    "for ii in range(len(dir_angs)):\n",
    "    dir_angs[ii] = vec_angles(cell_pos[ii,:]+np.asarray((1,1,1)),slice_vec)\n",
    "dir_angs"
   ]
  },
  {
   "cell_type": "code",
   "execution_count": 12,
   "metadata": {},
   "outputs": [
    {
     "data": {
      "text/plain": [
       "array([ 433.80194728, -250.45567104,    0.        ])"
      ]
     },
     "execution_count": 12,
     "metadata": {},
     "output_type": "execute_result"
    }
   ],
   "source": [
    "np.round(500/np.linalg.norm(vec_dir))*vec_dir"
   ]
  },
  {
   "cell_type": "code",
   "execution_count": 13,
   "metadata": {},
   "outputs": [
    {
     "data": {
      "text/plain": [
       "array([ 4.29506878, -2.47975912,  0.        ])"
      ]
     },
     "execution_count": 13,
     "metadata": {},
     "output_type": "execute_result"
    }
   ],
   "source": [
    "vec_dir"
   ]
  },
  {
   "cell_type": "code",
   "execution_count": 14,
   "metadata": {},
   "outputs": [
    {
     "data": {
      "text/plain": [
       "array([1, 1, 1])"
      ]
     },
     "execution_count": 14,
     "metadata": {},
     "output_type": "execute_result"
    }
   ],
   "source": [
    "np.asarray((1,1,1))"
   ]
  },
  {
   "cell_type": "code",
   "execution_count": 15,
   "metadata": {},
   "outputs": [
    {
     "data": {
      "text/plain": [
       "<matplotlib.collections.PathCollection at 0x12d4f7850>"
      ]
     },
     "execution_count": 15,
     "metadata": {},
     "output_type": "execute_result"
    },
    {
     "data": {
      "image/png": "[encoded data removed]",
      "text/plain": [
       "<Figure size 1080x1080 with 1 Axes>"
      ]
     },
     "metadata": {
      "needs_background": "light"
     },
     "output_type": "display_data"
    }
   ],
   "source": [
    "yy,xx = np.meshgrid(np.arange(-2,6,0.25),np.arange(-6,7,0.25))\n",
    "plt.figure(figsize=(15,15))\n",
    "plt.scatter(yy.ravel(),xx.ravel())"
   ]
  },
  {
   "cell_type": "code",
   "execution_count": null,
   "metadata": {},
   "outputs": [],
   "source": []
  },
  {
   "cell_type": "code",
   "execution_count": null,
   "metadata": {},
   "outputs": [],
   "source": []
  }
 ],
 "metadata": {
  "kernelspec": {
   "display_name": "Python 3",
   "language": "python",
   "name": "python3"
  },
  "language_info": {
   "codemirror_mode": {
    "name": "ipython",
    "version": 3
   },
   "file_extension": ".py",
   "mimetype": "text/x-python",
   "name": "python",
   "nbconvert_exporter": "python",
   "pygments_lexer": "ipython3",
   "version": "3.7.4"
  }
 },
 "nbformat": 4,
 "nbformat_minor": 4
}
